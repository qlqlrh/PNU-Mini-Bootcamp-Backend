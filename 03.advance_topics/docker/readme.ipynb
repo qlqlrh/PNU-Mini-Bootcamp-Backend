{
 "cells": [
  {
   "cell_type": "markdown",
   "metadata": {},
   "source": [
    "### Docker CLI\n",
    "- 도커 컨테이너 접속 \n",
    "\n",
    "```\n",
    " $ docker exec -it mongodb bash\n",
    "    - $ mongosh -u root -p\n",
    "    - password > $ 1234\n",
    "        - root 계정으로 test 접속 성공\n",
    "```"
   ]
  },
  {
   "cell_type": "markdown",
   "metadata": {},
   "source": []
  }
 ],
 "metadata": {
  "language_info": {
   "name": "python"
  }
 },
 "nbformat": 4,
 "nbformat_minor": 2
}
